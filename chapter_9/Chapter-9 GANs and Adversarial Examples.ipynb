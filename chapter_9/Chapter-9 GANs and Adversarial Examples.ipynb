{
 "cells": [
  {
   "cell_type": "markdown",
   "metadata": {},
   "source": [
    "# Chapter 9: GANs and Adversarial Examples\n",
    "A GAN is a framework that's used to generate new data by learning the distribution of data."
   ]
  },
  {
   "cell_type": "markdown",
   "metadata": {},
   "source": [
    "# Creating the dataset"
   ]
  },
  {
   "cell_type": "markdown",
   "metadata": {},
   "source": [
    "### 1. Import the essential packages:"
   ]
  },
  {
   "cell_type": "code",
   "execution_count": 1,
   "metadata": {},
   "outputs": [],
   "source": [
    "from torchvision import datasets\n",
    "import torchvision.transforms as transforms\n",
    "import os\n",
    "\n",
    "path_to_data = \"./data/chapter_9\"\n",
    "os.makedirs(path_to_data, exist_ok=True)"
   ]
  },
  {
   "cell_type": "markdown",
   "metadata": {},
   "source": [
    "### 2. Define the data transformations:"
   ]
  },
  {
   "cell_type": "code",
   "execution_count": 2,
   "metadata": {},
   "outputs": [],
   "source": [
    "height, width = 64, 64\n",
    "mean = (0.5, 0.5, 0.5)\n",
    "std = (0.5, 0.5, 0.5)\n",
    "transform = transforms.Compose([\n",
    "    transforms.Resize((height, width)),\n",
    "    transforms.CenterCrop((height, width)),\n",
    "    transforms.ToTensor(),\n",
    "    transforms.Normalize(mean, std)\n",
    "])"
   ]
  },
  {
   "cell_type": "markdown",
   "metadata": {},
   "source": [
    "### 3. Instantiate an object of the STL-10 class:"
   ]
  },
  {
   "cell_type": "code",
   "execution_count": 3,
   "metadata": {},
   "outputs": [
    {
     "name": "stdout",
     "output_type": "stream",
     "text": [
      "Files already downloaded and verified\n",
      "5000\n"
     ]
    }
   ],
   "source": [
    "train_dataset = datasets.STL10(path_to_data, split='train',\n",
    "                          download=True,\n",
    "                          transform=transform)\n",
    "print(len(train_dataset))"
   ]
  },
  {
   "cell_type": "markdown",
   "metadata": {},
   "source": [
    "### 4. Get a sample tensor from the dataset:"
   ]
  },
  {
   "cell_type": "code",
   "execution_count": 4,
   "metadata": {},
   "outputs": [
    {
     "name": "stdout",
     "output_type": "stream",
     "text": [
      "torch.Size([3, 64, 64]) tensor(-0.8980) tensor(0.9529)\n"
     ]
    }
   ],
   "source": [
    "import torch\n",
    "for x, _ in train_dataset:\n",
    "    print(x.shape, torch.min(x), torch.max(x))\n",
    "    break"
   ]
  },
  {
   "cell_type": "markdown",
   "metadata": {},
   "source": [
    "### 5. Let's display the sample tensor:"
   ]
  },
  {
   "cell_type": "code",
   "execution_count": 5,
   "metadata": {},
   "outputs": [
    {
     "data": {
      "text/plain": [
       "<matplotlib.image.AxesImage at 0x7f66624b3a90>"
      ]
     },
     "execution_count": 5,
     "metadata": {},
     "output_type": "execute_result"
    },
    {
     "data": {
      "image/png": "[encoded data removed]",
      "text/plain": [
       "<Figure size 432x288 with 1 Axes>"
      ]
     },
     "metadata": {
      "needs_background": "light"
     },
     "output_type": "display_data"
    }
   ],
   "source": [
    "from torchvision.transforms.functional import to_pil_image\n",
    "import matplotlib.pylab as plt\n",
    "%matplotlib inline\n",
    "\n",
    "plt.imshow(to_pil_image(0.5*x + 0.5))"
   ]
  },
  {
   "cell_type": "markdown",
   "metadata": {},
   "source": [
    "### 6. Create the dataloader:"
   ]
  },
  {
   "cell_type": "code",
   "execution_count": 6,
   "metadata": {},
   "outputs": [],
   "source": [
    "import torch\n",
    "\n",
    "batch_size = 32\n",
    "train_data_loader = torch.utils.data.DataLoader(train_dataset,\n",
    "                                                batch_size=batch_size,\n",
    "                                                shuffle=True)"
   ]
  },
  {
   "cell_type": "markdown",
   "metadata": {},
   "source": [
    "###  7. Get a data batch from the dataloader"
   ]
  },
  {
   "cell_type": "code",
   "execution_count": 7,
   "metadata": {},
   "outputs": [
    {
     "name": "stdout",
     "output_type": "stream",
     "text": [
      "torch.Size([32, 3, 64, 64]) torch.Size([32])\n"
     ]
    }
   ],
   "source": [
    "for x, y in train_data_loader:\n",
    "    print(x.shape, y.shape)\n",
    "    break"
   ]
  },
  {
   "cell_type": "markdown",
   "metadata": {},
   "source": [
    "## Defining the generator and discriminator"
   ]
  },
  {
   "cell_type": "markdown",
   "metadata": {},
   "source": [
    "### 1. Define the Generator class:"
   ]
  },
  {
   "cell_type": "code",
   "execution_count": 8,
   "metadata": {},
   "outputs": [],
   "source": [
    "from torch import nn\n",
    "import torch.nn.functional as F\n",
    "\n",
    "class Generator(nn.Module):\n",
    "    def __init__(self, params):\n",
    "        super(Generator, self).__init__()\n",
    "        noise_vector = params[\"noise_vector\"]\n",
    "        num_conv_filters = params[\"num_conv_filters\"]\n",
    "        num_out_channels = params[\"num_out_channels\"]\n",
    "        \n",
    "        self.dconv1 = nn.ConvTranspose2d(noise_vector, num_conv_filters * 8,\n",
    "                                         kernel_size=4, stride=1,\n",
    "                                         padding=0, bias=False)\n",
    "        self.batch_norm_1 = nn.BatchNorm2d(num_conv_filters * 8)\n",
    "        \n",
    "        self.dconv2 = nn.ConvTranspose2d(num_conv_filters * 8,\n",
    "                                         num_conv_filters * 4,\n",
    "                                         kernel_size=4,\n",
    "                                         stride=2,\n",
    "                                         padding=1, bias=False)\n",
    "        self.batch_norm_2 = nn.BatchNorm2d(num_conv_filters * 4)\n",
    "        \n",
    "        self.dconv3 = nn.ConvTranspose2d(num_conv_filters * 4,\n",
    "                                         num_conv_filters * 2,\n",
    "                                         kernel_size=4, stride=2,\n",
    "                                         padding=1, bias=False)\n",
    "        self.batch_norm_3 = nn.BatchNorm2d(num_conv_filters * 2)\n",
    "        \n",
    "        self.dconv4 = nn.ConvTranspose2d(num_conv_filters * 2,\n",
    "                                         num_conv_filters,\n",
    "                                         kernel_size=4, stride=2,\n",
    "                                         padding=1, bias=False)\n",
    "        self.batch_norm_4 = nn.BatchNorm2d(num_conv_filters)\n",
    "        \n",
    "        self.dconv5 = nn.ConvTranspose2d(num_conv_filters,\n",
    "                                         num_out_channels,\n",
    "                                         kernel_size=4,\n",
    "                                         stride=2, padding=1,\n",
    "                                         bias=False)\n",
    "        \n",
    "    def forward(self, x):\n",
    "        x = F.relu(self.batch_norm_1(self.dconv1(x)))\n",
    "        x = F.relu(self.batch_norm_2(self.dconv2(x)))\n",
    "        x = F.relu(self.batch_norm_3(self.dconv3(x)))\n",
    "        x = F.relu(self.batch_norm_4(self.dconv4(x)))\n",
    "        out = torch.tanh(self.dconv5(x))\n",
    "        return out"
   ]
  },
  {
   "cell_type": "markdown",
   "metadata": {},
   "source": [
    "### 2. Define an object of the Generator class:"
   ]
  },
  {
   "cell_type": "code",
   "execution_count": 9,
   "metadata": {},
   "outputs": [
    {
     "name": "stdout",
     "output_type": "stream",
     "text": [
      "Generator(\n",
      "  (dconv1): ConvTranspose2d(100, 512, kernel_size=(4, 4), stride=(1, 1), bias=False)\n",
      "  (batch_norm_1): BatchNorm2d(512, eps=1e-05, momentum=0.1, affine=True, track_running_stats=True)\n",
      "  (dconv2): ConvTranspose2d(512, 256, kernel_size=(4, 4), stride=(2, 2), padding=(1, 1), bias=False)\n",
      "  (batch_norm_2): BatchNorm2d(256, eps=1e-05, momentum=0.1, affine=True, track_running_stats=True)\n",
      "  (dconv3): ConvTranspose2d(256, 128, kernel_size=(4, 4), stride=(2, 2), padding=(1, 1), bias=False)\n",
      "  (batch_norm_3): BatchNorm2d(128, eps=1e-05, momentum=0.1, affine=True, track_running_stats=True)\n",
      "  (dconv4): ConvTranspose2d(128, 64, kernel_size=(4, 4), stride=(2, 2), padding=(1, 1), bias=False)\n",
      "  (batch_norm_4): BatchNorm2d(64, eps=1e-05, momentum=0.1, affine=True, track_running_stats=True)\n",
      "  (dconv5): ConvTranspose2d(64, 3, kernel_size=(4, 4), stride=(2, 2), padding=(1, 1), bias=False)\n",
      ")\n"
     ]
    }
   ],
   "source": [
    "params_generator = {\n",
    "    \"noise_vector\": 100,\n",
    "    \"num_conv_filters\": 64,\n",
    "    \"num_out_channels\": 3,\n",
    "}\n",
    "model_generator = Generator(params_generator)\n",
    "device = torch.device(\"cuda\")\n",
    "model_generator.to(device)\n",
    "print(model_generator)"
   ]
  },
  {
   "cell_type": "markdown",
   "metadata": {},
   "source": [
    "### 3. Define the Discrinator class:"
   ]
  },
  {
   "cell_type": "code",
   "execution_count": 10,
   "metadata": {},
   "outputs": [],
   "source": [
    "class Discriminator(nn.Module):\n",
    "    def __init__(self, params):\n",
    "        super(Discriminator, self).__init__()\n",
    "        num_in_channels = params[\"num_in_channels\"]\n",
    "        num_deconv_filters = params[\"num_deconv_filters\"]\n",
    "        \n",
    "        self.conv1 = nn.Conv2d(num_in_channels, num_deconv_filters,\n",
    "                               kernel_size=4, stride=2,\n",
    "                               padding=1, bias=False)\n",
    "        self.conv2 = nn.Conv2d(num_deconv_filters,\n",
    "                               num_deconv_filters * 2, kernel_size=4,\n",
    "                               stride=2, padding=1, bias=False)\n",
    "        self.batch_norm_2 = nn.BatchNorm2d(num_deconv_filters * 2)\n",
    "        \n",
    "        self.conv3 = nn.Conv2d(num_deconv_filters * 2,\n",
    "                               num_deconv_filters * 4, kernel_size=4,\n",
    "                               stride=2, padding=1, bias=False)\n",
    "        self.batch_norm_3 = nn.BatchNorm2d(num_deconv_filters * 4)\n",
    "        \n",
    "        self.conv4 = nn.Conv2d(num_deconv_filters * 4,\n",
    "                               num_deconv_filters * 8,\n",
    "                               kernel_size=4,\n",
    "                               stride=2, padding=1, bias=False)\n",
    "        self.batch_norm_4 = nn.BatchNorm2d(num_deconv_filters * 8)\n",
    "        \n",
    "        self.conv5 = nn.Conv2d(num_deconv_filters * 8, 1,\n",
    "                               kernel_size=4,\n",
    "                               stride=1, padding=0, bias=False)\n",
    "        \n",
    "    def forward(self, x):\n",
    "        x = F.leaky_relu(self.conv1(x), 0.2, True)\n",
    "        x = F.leaky_relu(self.batch_norm_2(self.conv2(x)),\n",
    "                         0.2, inplace=True)\n",
    "        x = F.leaky_relu(self.batch_norm_3(self.conv3(x)),\n",
    "                         0.2, inplace=True)\n",
    "        x = F.leaky_relu(self.batch_norm_4(self.conv4(x)),\n",
    "                         0.2, inplace=True)\n",
    "        out = torch.sigmoid(self.conv5(x))\n",
    "        return out.view(-1)"
   ]
  },
  {
   "cell_type": "markdown",
   "metadata": {},
   "source": [
    "### 4. Define an object of the Discriminator class:"
   ]
  },
  {
   "cell_type": "code",
   "execution_count": 11,
   "metadata": {},
   "outputs": [
    {
     "name": "stdout",
     "output_type": "stream",
     "text": [
      "Discriminator(\n",
      "  (conv1): Conv2d(3, 64, kernel_size=(4, 4), stride=(2, 2), padding=(1, 1), bias=False)\n",
      "  (conv2): Conv2d(64, 128, kernel_size=(4, 4), stride=(2, 2), padding=(1, 1), bias=False)\n",
      "  (batch_norm_2): BatchNorm2d(128, eps=1e-05, momentum=0.1, affine=True, track_running_stats=True)\n",
      "  (conv3): Conv2d(128, 256, kernel_size=(4, 4), stride=(2, 2), padding=(1, 1), bias=False)\n",
      "  (batch_norm_3): BatchNorm2d(256, eps=1e-05, momentum=0.1, affine=True, track_running_stats=True)\n",
      "  (conv4): Conv2d(256, 512, kernel_size=(4, 4), stride=(2, 2), padding=(1, 1), bias=False)\n",
      "  (batch_norm_4): BatchNorm2d(512, eps=1e-05, momentum=0.1, affine=True, track_running_stats=True)\n",
      "  (conv5): Conv2d(512, 1, kernel_size=(4, 4), stride=(1, 1), bias=False)\n",
      ")\n"
     ]
    }
   ],
   "source": [
    "params_discriminator = {\n",
    "    \"num_in_channels\": 3,\n",
    "    \"num_deconv_filters\": 64\n",
    "}\n",
    "\n",
    "model_discriminator = Discriminator(params_discriminator)\n",
    "model_discriminator.to(device)\n",
    "print(model_discriminator)"
   ]
  },
  {
   "cell_type": "markdown",
   "metadata": {},
   "source": [
    "Let's pass some dummy input to the model:"
   ]
  },
  {
   "cell_type": "code",
   "execution_count": 12,
   "metadata": {},
   "outputs": [
    {
     "name": "stdout",
     "output_type": "stream",
     "text": [
      "torch.Size([1])\n"
     ]
    }
   ],
   "source": [
    "with torch.no_grad():\n",
    "    y = model_discriminator(torch.zeros(1, 3, height, width,\n",
    "                                        device=device))\n",
    "\n",
    "print(y.shape)"
   ]
  },
  {
   "cell_type": "markdown",
   "metadata": {},
   "source": [
    "### 5. Define a helper function to initialize the model weights:"
   ]
  },
  {
   "cell_type": "code",
   "execution_count": 13,
   "metadata": {},
   "outputs": [],
   "source": [
    "def initialize_weights(model):\n",
    "    classname = model.__class__.__name__\n",
    "    \n",
    "    if classname.find('Conv') != -1:\n",
    "        nn.init.normal_(model.weight.data, 0.0, 0.02)\n",
    "    elif classname.find('BatchNorm') != -1:\n",
    "        nn.init.normal_(model.weight.data, 1.0, 0.02)\n",
    "        nn.init.constant_(model.bias.data, 0)"
   ]
  },
  {
   "cell_type": "markdown",
   "metadata": {},
   "source": [
    "### 6. Initialize the model weights by calling the helper function:"
   ]
  },
  {
   "cell_type": "code",
   "execution_count": 14,
   "metadata": {},
   "outputs": [],
   "source": [
    "model_generator.apply(initialize_weights);\n",
    "model_discriminator.apply(initialize_weights);"
   ]
  },
  {
   "cell_type": "markdown",
   "metadata": {},
   "source": [
    "## Defining the loss and optimizer"
   ]
  },
  {
   "cell_type": "markdown",
   "metadata": {},
   "source": [
    "### 1. Define an object of the BCE loss class:"
   ]
  },
  {
   "cell_type": "code",
   "execution_count": 15,
   "metadata": {},
   "outputs": [],
   "source": [
    "loss_function = nn.BCELoss()"
   ]
  },
  {
   "cell_type": "markdown",
   "metadata": {},
   "source": [
    "### 2. Define the optimizer for the generator:"
   ]
  },
  {
   "cell_type": "code",
   "execution_count": 16,
   "metadata": {},
   "outputs": [],
   "source": [
    "from torch import optim\n",
    "\n",
    "lr = 2e-4\n",
    "beta_1 = 0.5\n",
    "optimizer_discriminator = optim.Adam(model_discriminator.parameters(),\n",
    "                                     lr=lr,\n",
    "                                     betas=(beta_1, 0.999))"
   ]
  },
  {
   "cell_type": "markdown",
   "metadata": {},
   "source": [
    "### 3. Define the optimizer for the discriminator:"
   ]
  },
  {
   "cell_type": "code",
   "execution_count": 17,
   "metadata": {},
   "outputs": [],
   "source": [
    "optimizer_generator = optim.Adam(model_generator.parameters(), \n",
    "                                 lr=lr,\n",
    "                                 betas=(beta_1, 0.999))"
   ]
  },
  {
   "cell_type": "markdown",
   "metadata": {},
   "source": [
    "## Training the models\n",
    "\n",
    "Training the GAN framework is done in two stages: training the discriminator and training the generator. To this end, we will take the following steps:\n",
    "\n",
    "1. Get a batch of real images with the target labels set to 1.\n",
    "2. Generate a batch of fake images using the generator with the target labels set to 0.\n",
    "3. Feed the mini-batches to the discriminator and compute the loss and gradients.\n",
    "4. Update the discriminator parameters using the gradients.\n",
    "5. Generate a batch of fake images using the generator with the target labels set to 1.\n",
    "6. Feed the fake mini-batch to the discriminator and compute the loss and gradients.\n",
    "7. Update the generator only based on gradients.\n",
    "8. Repeat from step 1."
   ]
  },
  {
   "cell_type": "markdown",
   "metadata": {},
   "source": [
    "### 1. Define a few parameters:"
   ]
  },
  {
   "cell_type": "code",
   "execution_count": 18,
   "metadata": {},
   "outputs": [],
   "source": [
    "real_label = 1\n",
    "fake_label = 0\n",
    "noise_vector = params_generator[\"noise_vector\"]\n",
    "num_epochs = 100\n",
    "\n",
    "loss_history={\"generator\": [],\n",
    "              \"discriminator\": []}"
   ]
  },
  {
   "cell_type": "markdown",
   "metadata": {},
   "source": [
    "### 2. Start the training loop and calculate the loss for real samples:"
   ]
  },
  {
   "cell_type": "code",
   "execution_count": 22,
   "metadata": {},
   "outputs": [
    {
     "name": "stdout",
     "output_type": "stream",
     "text": [
      "0 11.111677169799805 0.7471572160720825\n",
      "1 5.599127292633057 0.30035051703453064\n",
      "1 2.3889269828796387 1.2347861528396606\n",
      "2 8.6511869430542 1.1172200441360474\n",
      "3 4.405440330505371 0.18246155977249146\n",
      "3 7.03734016418457 0.35542353987693787\n",
      "4 3.1067676544189453 0.3491009771823883\n",
      "5 3.3666634559631348 0.400203138589859\n",
      "5 3.6453700065612793 0.2646588087081909\n",
      "6 3.020416021347046 0.6201850175857544\n",
      "7 6.9462385177612305 0.6266788840293884\n",
      "7 1.81218683719635 0.7813478708267212\n",
      "8 3.7200841903686523 0.2953014671802521\n",
      "8 3.864778995513916 0.26965099573135376\n",
      "9 3.047415018081665 0.4537518620491028\n",
      "10 5.6563310623168945 0.3209519386291504\n",
      "10 3.6719002723693848 0.2751806974411011\n",
      "11 3.6941652297973633 0.3544877767562866\n",
      "12 4.09388542175293 0.33046215772628784\n",
      "12 4.862166881561279 0.14322061836719513\n",
      "13 5.359509468078613 0.4383048713207245\n",
      "14 11.048657417297363 1.177587866783142\n",
      "14 6.571467399597168 0.7603567242622375\n",
      "15 4.930931091308594 0.3058546185493469\n",
      "15 6.011255264282227 0.8566811680793762\n",
      "16 3.5301058292388916 0.3792196810245514\n",
      "17 2.3894670009613037 0.8556642532348633\n",
      "17 4.423475742340088 0.3303368091583252\n",
      "18 4.283883571624756 0.32717281579971313\n",
      "19 0.9044854044914246 1.6132423877716064\n",
      "19 4.4959869384765625 0.8093976974487305\n",
      "20 3.9512040615081787 0.3303961753845215\n",
      "21 2.621058464050293 0.6023960113525391\n",
      "21 2.4787216186523438 0.6644265055656433\n",
      "22 3.6352005004882812 0.6581941246986389\n",
      "22 4.310001373291016 0.31289851665496826\n",
      "23 3.3640637397766113 0.3782566487789154\n",
      "24 2.7577435970306396 0.7155832052230835\n",
      "24 3.0990588665008545 0.48173990845680237\n",
      "25 4.292351722717285 0.29478204250335693\n",
      "26 4.5955634117126465 0.6873841285705566\n",
      "26 4.6417999267578125 0.6998593807220459\n",
      "27 2.2699317932128906 0.7978173494338989\n",
      "28 2.729105234146118 0.5564628839492798\n",
      "28 3.6858725547790527 0.2347731590270996\n",
      "29 3.0509355068206787 0.4683590531349182\n",
      "29 5.093789100646973 0.48853161931037903\n",
      "30 4.931963920593262 0.7234703302383423\n",
      "31 2.719512701034546 0.6774490475654602\n",
      "31 4.291633129119873 0.1957893967628479\n",
      "32 4.415042400360107 0.4734001159667969\n",
      "33 3.361194133758545 0.14912629127502441\n",
      "33 2.73671817779541 0.14303743839263916\n",
      "34 4.658726692199707 0.4200862646102905\n",
      "35 5.506383895874023 1.6021313667297363\n",
      "35 5.4673752784729 0.3437141478061676\n",
      "36 4.41824197769165 0.2754952013492584\n",
      "36 8.244123458862305 1.5453319549560547\n",
      "37 2.6116929054260254 0.34734633564949036\n",
      "38 3.6895627975463867 0.26437970995903015\n",
      "38 4.7087297439575195 0.15887890756130219\n",
      "39 2.9083850383758545 0.43964874744415283\n",
      "40 4.792206287384033 0.16620998084545135\n",
      "40 6.302931308746338 0.4437110424041748\n",
      "41 0.9709144830703735 1.060408592224121\n",
      "42 4.736537933349609 0.32792341709136963\n",
      "42 4.104996681213379 0.24903565645217896\n",
      "43 4.004428863525391 0.32964280247688293\n",
      "43 3.4613449573516846 0.3585975170135498\n",
      "44 3.787973403930664 0.3221866488456726\n",
      "45 3.383171558380127 0.6087648868560791\n",
      "45 3.1713194847106934 0.27264291048049927\n",
      "46 4.51368522644043 0.31524384021759033\n",
      "47 4.478553295135498 0.43971776962280273\n",
      "47 4.952383041381836 0.3211628198623657\n",
      "48 4.3269500732421875 0.17798541486263275\n",
      "49 7.267808437347412 0.6483352184295654\n",
      "49 1.3777892589569092 0.7538567781448364\n",
      "50 1.7941017150878906 0.8838844299316406\n",
      "50 3.116605281829834 0.1973753273487091\n",
      "51 2.8978915214538574 0.28392869234085083\n",
      "52 2.264556884765625 1.0734002590179443\n",
      "52 4.4832844734191895 0.3145933151245117\n",
      "53 2.5760045051574707 0.22348564863204956\n",
      "54 6.406136989593506 0.6265954971313477\n",
      "54 5.202134609222412 0.3530793786048889\n",
      "55 4.623595237731934 0.3359134793281555\n",
      "56 11.243672370910645 1.478761076927185\n",
      "56 4.529432773590088 0.29806798696517944\n",
      "57 4.122328758239746 0.3097344636917114\n",
      "57 4.693280220031738 0.1391814649105072\n",
      "58 3.5414905548095703 0.32033902406692505\n",
      "59 3.5658650398254395 0.33585184812545776\n",
      "59 4.477975368499756 0.20932133495807648\n",
      "60 4.409629821777344 0.19222906231880188\n",
      "61 8.560407638549805 1.0155037641525269\n",
      "61 6.334783554077148 0.2794634997844696\n",
      "62 8.84315299987793 0.7242712378501892\n",
      "63 7.085963249206543 0.6524003744125366\n",
      "63 4.423176288604736 0.2542639672756195\n",
      "64 5.235528945922852 0.09257177263498306\n",
      "64 5.524530410766602 0.11030767858028412\n",
      "65 3.2349727153778076 0.3326106369495392\n",
      "66 4.15824031829834 0.06662914156913757\n",
      "66 1.335476279258728 2.459535598754883\n",
      "67 3.6641921997070312 0.21815815567970276\n",
      "68 5.247145652770996 0.2054247260093689\n",
      "68 2.9444799423217773 0.35813963413238525\n",
      "69 5.505990982055664 0.12102314084768295\n",
      "70 6.975285053253174 0.8251762390136719\n",
      "70 4.545101165771484 0.16278596222400665\n",
      "71 4.015820503234863 0.1607939749956131\n",
      "71 3.768664836883545 0.2036568969488144\n",
      "72 4.8824591636657715 0.15348942577838898\n",
      "73 4.1322245597839355 0.20842894911766052\n",
      "73 3.1114320755004883 0.44126710295677185\n",
      "74 4.9154582023620605 0.06677178293466568\n",
      "75 3.811861753463745 0.13538053631782532\n",
      "75 4.865858554840088 0.09937556087970734\n",
      "76 2.7894418239593506 0.42521703243255615\n",
      "77 4.91265344619751 0.25093433260917664\n",
      "77 4.612685203552246 0.37675565481185913\n",
      "78 4.6429338455200195 0.11000873148441315\n",
      "78 4.0943803787231445 0.2796748876571655\n",
      "79 4.619208335876465 0.0897512212395668\n",
      "80 4.619754791259766 0.06966547667980194\n",
      "80 3.6579232215881348 0.22414863109588623\n",
      "81 5.526448726654053 0.10472217202186584\n",
      "82 5.081725120544434 0.0692676231265068\n",
      "82 3.1272640228271484 0.23103778064250946\n",
      "83 7.143294334411621 0.4129803776741028\n",
      "84 5.412505149841309 0.08478598296642303\n",
      "84 5.133002758026123 0.19786883890628815\n",
      "85 5.330330848693848 0.16733872890472412\n",
      "85 4.6678924560546875 0.13145573437213898\n",
      "86 4.510400772094727 0.16828426718711853\n",
      "87 4.799623489379883 0.0853380560874939\n",
      "87 4.907890319824219 1.1567497253417969\n",
      "88 6.047667026519775 0.696203351020813\n",
      "89 4.305817604064941 0.11127987504005432\n",
      "89 3.8301753997802734 0.1755700707435608\n",
      "90 3.6595726013183594 0.20819464325904846\n",
      "91 4.7260894775390625 0.1516098827123642\n",
      "91 6.0198516845703125 0.09793983399868011\n",
      "92 5.9236650466918945 0.19381976127624512\n",
      "92 3.125560998916626 0.19383281469345093\n",
      "93 5.8428215980529785 0.1130322813987732\n",
      "94 5.09415864944458 0.0737079381942749\n",
      "94 1.676163673400879 1.9631001949310303\n",
      "95 2.073483467102051 0.873196005821228\n",
      "96 4.163919448852539 0.1258789747953415\n",
      "96 4.352302551269531 0.14194269478321075\n",
      "97 5.08260440826416 0.0616319440305233\n",
      "98 5.196046829223633 0.06445001065731049\n",
      "98 5.164961814880371 0.06943058967590332\n",
      "99 5.40359354019165 0.06323446333408356\n",
      "99 6.042943000793457 0.5978841185569763\n"
     ]
    }
   ],
   "source": [
    "batch_count = 0\n",
    "\n",
    "for epoch in range(num_epochs):\n",
    "    for x_batch, y_batch in train_data_loader:\n",
    "        batch_size = x_batch.size(0)\n",
    "        model_discriminator.zero_grad()\n",
    "        x_batch = x_batch.to(device)\n",
    "        y_batch = torch.full((batch_size,), real_label,\n",
    "                             device=device)\n",
    "        out_discriminator = model_discriminator(x_batch)\n",
    "        loss_real = loss_function(out_discriminator, y_batch)\n",
    "        loss_real.backward()\n",
    "        \n",
    "        # continue the training loop by calculating the loss for fake samples:\n",
    "\n",
    "        noise = torch.randn(batch_size, noise_vector, 1, 1, device=device)\n",
    "        out_generator = model_generator(noise)\n",
    "        out_discriminator = model_discriminator(out_generator.detach())\n",
    "        y_batch.fill_(fake_label)\n",
    "        loss_fake = loss_function(out_discriminator, y_batch)\n",
    "        loss_fake.backward()\n",
    "        loss_discriminator = loss_real + loss_fake\n",
    "        optimizer_discriminator.step()\n",
    "        \n",
    "        # continue the training loop\n",
    "        model_generator.zero_grad()\n",
    "        y_batch.fill_(real_label)\n",
    "        out_discriminator = model_discriminator(out_generator)\n",
    "        loss_generator = loss_function(out_discriminator, y_batch)\n",
    "        loss_generator.backward()\n",
    "        optimizer_generator.step()\n",
    "\n",
    "        loss_history[\"generator\"].append(loss_generator.item())\n",
    "        loss_history[\"discriminator\"].append(loss_discriminator.item())\n",
    "        batch_count = batch_count + 1\n",
    "\n",
    "        if batch_count % 100 == 0:\n",
    "            print(epoch, loss_generator.item(), loss_discriminator.item())"
   ]
  },
  {
   "cell_type": "markdown",
   "metadata": {},
   "source": [
    "### 3. Plot the loss history:"
   ]
  },
  {
   "cell_type": "code",
   "execution_count": 24,
   "metadata": {},
   "outputs": [
    {
     "data": {
      "image/png": "[encoded data removed]",
      "text/plain": [
       "<Figure size 720x360 with 1 Axes>"
      ]
     },
     "metadata": {
      "needs_background": "light"
     },
     "output_type": "display_data"
    }
   ],
   "source": [
    "plt.figure(figsize=(10, 5))\n",
    "plt.title(\"Loss Progress\")\n",
    "plt.plot(loss_history[\"generator\"], label=\"Gen. Loss\")\n",
    "plt.plot(loss_history[\"discriminator\"], label=\"Dis. Loss\")\n",
    "plt.xlabel(\"batch count\")\n",
    "plt.ylabel(\"Loss\")\n",
    "plt.legend()\n",
    "plt.show()"
   ]
  },
  {
   "cell_type": "markdown",
   "metadata": {},
   "source": [
    "### 4. Store the model weights:"
   ]
  },
  {
   "cell_type": "code",
   "execution_count": 25,
   "metadata": {},
   "outputs": [],
   "source": [
    "import os\n",
    "\n",
    "path_to_models = \"./models/\"\n",
    "os.makedirs(path_to_models, exist_ok=True)\n",
    "path_to_weights_generator = os.path.join(path_to_models,\n",
    "                                         \"weights_generator.pt\")\n",
    "path_to_weights_discriminator = os.path.join(\n",
    "                                    path_to_models,\n",
    "                                    \"weights_discriminator.pt\")\n",
    "\n",
    "torch.save(model_generator.state_dict(), path_to_weights_generator)\n",
    "torch.save(model_discriminator.state_dict(),\n",
    "           path_to_weights_discriminator)"
   ]
  },
  {
   "cell_type": "markdown",
   "metadata": {},
   "source": [
    "## Deploying the generator"
   ]
  },
  {
   "cell_type": "markdown",
   "metadata": {},
   "source": [
    "### 1. Load the weights"
   ]
  },
  {
   "cell_type": "code",
   "execution_count": 26,
   "metadata": {},
   "outputs": [
    {
     "data": {
      "text/plain": [
       "<All keys matched successfully>"
      ]
     },
     "execution_count": 26,
     "metadata": {},
     "output_type": "execute_result"
    }
   ],
   "source": [
    "weights = torch.load(path_to_weights_generator)\n",
    "model_generator.load_state_dict(weights)"
   ]
  },
  {
   "cell_type": "markdown",
   "metadata": {},
   "source": [
    "### 2. Set the model in evaluation mode: "
   ]
  },
  {
   "cell_type": "code",
   "execution_count": 27,
   "metadata": {},
   "outputs": [
    {
     "data": {
      "text/plain": [
       "Generator(\n",
       "  (dconv1): ConvTranspose2d(100, 512, kernel_size=(4, 4), stride=(1, 1), bias=False)\n",
       "  (batch_norm_1): BatchNorm2d(512, eps=1e-05, momentum=0.1, affine=True, track_running_stats=True)\n",
       "  (dconv2): ConvTranspose2d(512, 256, kernel_size=(4, 4), stride=(2, 2), padding=(1, 1), bias=False)\n",
       "  (batch_norm_2): BatchNorm2d(256, eps=1e-05, momentum=0.1, affine=True, track_running_stats=True)\n",
       "  (dconv3): ConvTranspose2d(256, 128, kernel_size=(4, 4), stride=(2, 2), padding=(1, 1), bias=False)\n",
       "  (batch_norm_3): BatchNorm2d(128, eps=1e-05, momentum=0.1, affine=True, track_running_stats=True)\n",
       "  (dconv4): ConvTranspose2d(128, 64, kernel_size=(4, 4), stride=(2, 2), padding=(1, 1), bias=False)\n",
       "  (batch_norm_4): BatchNorm2d(64, eps=1e-05, momentum=0.1, affine=True, track_running_stats=True)\n",
       "  (dconv5): ConvTranspose2d(64, 3, kernel_size=(4, 4), stride=(2, 2), padding=(1, 1), bias=False)\n",
       ")"
      ]
     },
     "execution_count": 27,
     "metadata": {},
     "output_type": "execute_result"
    }
   ],
   "source": [
    "model_generator.eval()"
   ]
  },
  {
   "cell_type": "markdown",
   "metadata": {},
   "source": [
    "### 3. Feed noise to the model and get its outputs:"
   ]
  },
  {
   "cell_type": "code",
   "execution_count": 28,
   "metadata": {},
   "outputs": [
    {
     "name": "stdout",
     "output_type": "stream",
     "text": [
      "torch.Size([8, 3, 64, 64])\n"
     ]
    }
   ],
   "source": [
    "with torch.no_grad():\n",
    "    fixed_noise = torch.randn(16, noise_vector, 1, 1,\n",
    "                              device=device)\n",
    "    image_fake = model_generator(noise).detach().cpu()\n",
    "print(image_fake.shape)"
   ]
  },
  {
   "cell_type": "markdown",
   "metadata": {},
   "source": [
    "### 4. Display the generated images: "
   ]
  },
  {
   "cell_type": "code",
   "execution_count": 31,
   "metadata": {},
   "outputs": [
    {
     "data": {
      "image/png": "[encoded data removed]",
      "text/plain": [
       "<Figure size 720x720 with 4 Axes>"
      ]
     },
     "metadata": {
      "needs_background": "light"
     },
     "output_type": "display_data"
    }
   ],
   "source": [
    "plt.figure(figsize=(10, 10))\n",
    "for ii in range(4):\n",
    "    plt.subplot(2, 2, ii+1)\n",
    "    plt.imshow(to_pil_image(0.5 * image_fake[ii] + 0.5))\n",
    "    plt.axis(\"off\")"
   ]
  },
  {
   "cell_type": "markdown",
   "metadata": {},
   "source": [
    "GANs perform better when they are trained with a single class."
   ]
  }
 ],
 "metadata": {
  "kernelspec": {
   "display_name": "Python 3",
   "language": "python",
   "name": "python3"
  },
  "language_info": {
   "codemirror_mode": {
    "name": "ipython",
    "version": 3
   },
   "file_extension": ".py",
   "mimetype": "text/x-python",
   "name": "python",
   "nbconvert_exporter": "python",
   "pygments_lexer": "ipython3",
   "version": "3.6.10"
  }
 },
 "nbformat": 4,
 "nbformat_minor": 4
}
